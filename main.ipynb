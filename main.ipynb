{
 "cells": [
  {
   "cell_type": "markdown",
   "metadata": {},
   "source": [
    "### 1 - Download VIST dataset\n",
    "\n",
    "- downloaded train, validation, test splits (both image sequences and text annotations)\n",
    "- `untar` and place in respective folders\n",
    "\n",
    "Used the following script to download from GDrive:\n",
    "```python\n",
    "python data_gdrive.py file_id destination_folder/file_name\n",
    "```\n"
   ]
  },
  {
   "cell_type": "markdown",
   "metadata": {},
   "source": [
    "### 2 - Download AlexNet pre-trained weights\n",
    "\n",
    "```bash\n",
    "wget https://www.cs.toronto.edu/~guerzhoy/tf_alexnet/bvlc_alexnet.npy -P dataset/models/alexnet/\n",
    "```"
   ]
  },
  {
   "cell_type": "markdown",
   "metadata": {},
   "source": [
    "### 3 - Extract image features from all images\n",
    "\n",
    "This saves the embeddings and respective image-ids to **`alexnet_image_features_val/train/test.hdf5`**"
   ]
  },
  {
   "cell_type": "code",
   "execution_count": 10,
   "metadata": {},
   "outputs": [
    {
     "name": "stdout",
     "output_type": "stream",
     "text": [
      "Premature end of JPEG file\n",
      "Premature end of JPEG file\n",
      "Premature end of JPEG file\n",
      "Premature end of JPEG file\n",
      "Premature end of JPEG file\n",
      "21047\n",
      "21047\n",
      "1653.48028111\n"
     ]
    }
   ],
   "source": [
    "!python dataset/models/alexnet/myalexnet_forward_newtf.py"
   ]
  },
  {
   "cell_type": "markdown",
   "metadata": {},
   "source": [
    "### 4 - Map every image feature vector with its vectorized sentence"
   ]
  },
  {
   "cell_type": "code",
   "execution_count": 11,
   "metadata": {},
   "outputs": [
    {
     "name": "stdout",
     "output_type": "stream",
     "text": [
      "initialized SIS DataReader\n",
      "created word frequency document\n",
      "generated vocabulary\n",
      "sentences to index mapping done.\n"
     ]
    }
   ],
   "source": [
    "!python data_reader/sis_datareader.py"
   ]
  },
  {
   "cell_type": "markdown",
   "metadata": {},
   "source": [
    "### 5 - Train the model"
   ]
  },
  {
   "cell_type": "code",
   "execution_count": null,
   "metadata": {},
   "outputs": [],
   "source": [
    "!python training_model.py"
   ]
  },
  {
   "cell_type": "markdown",
   "metadata": {},
   "source": [
    "### 6 - Generating stories"
   ]
  },
  {
   "cell_type": "code",
   "execution_count": null,
   "metadata": {},
   "outputs": [],
   "source": [
    "!python inference_model.py"
   ]
  }
 ],
 "metadata": {
  "kernelspec": {
   "display_name": "Python 2",
   "language": "python",
   "name": "python2"
  },
  "language_info": {
   "codemirror_mode": {
    "name": "ipython",
    "version": 2
   },
   "file_extension": ".py",
   "mimetype": "text/x-python",
   "name": "python",
   "nbconvert_exporter": "python",
   "pygments_lexer": "ipython2",
   "version": "2.7.14"
  }
 },
 "nbformat": 4,
 "nbformat_minor": 2
}
