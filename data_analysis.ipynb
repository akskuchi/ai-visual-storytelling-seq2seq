{
 "cells": [
  {
   "cell_type": "markdown",
   "metadata": {},
   "source": [
    "# Exploratory Data Analysis"
   ]
  },
  {
   "cell_type": "code",
   "execution_count": 14,
   "metadata": {},
   "outputs": [
    {
     "name": "stdout",
     "output_type": "stream",
     "text": [
      "this notebook is about the story-in-sequence data only - http://visionandlanguage.net/VIST/dataset.html\n"
     ]
    }
   ],
   "source": [
    "print(f'this notebook is about the {data[\"type\"]} data only - http://visionandlanguage.net/VIST/dataset.html')"
   ]
  },
  {
   "cell_type": "markdown",
   "metadata": {},
   "source": [
    "### Summary:\n",
    "\n",
    "Issues - \n",
    "\n",
    "1. The number of albums mentioned everywhere: `10,117`. Actual number of albums: **8031 + 998 + 1011 = 10040** from the data\n",
    "2. The number of images mentioned everywhere: `210,819`. Actual number of images: **167528 + 21048 + 21075 = 209,651**\n",
    "3. The json files contain `albums` information (that contains a field called `photos` indicating the number of images associated with that album). This is wrong. In actuality there are no albums in all 3 data splits (test, train, valid) that contain less than 10 images. But the json files show albums with less than 10 count. Example album-id - `616890`. More analysis below.\n",
    "\n",
    "Conclusions - \n",
    "\n",
    "1. **All albums have exactly 5 corresponding stories**\n",
    "2. **All stories have exactly 5 sentences**\n",
    "3. **An image can be part of atmost 5 stories** (meaning it can have 5 annotations)\n",
    "4. The only attribute in **order** is `story_id`, which can be used throughout the code to make other required fields (listed below), fall in place\n",
    "5. **All albums have atleast 10 images**\n",
    "\n",
    "Fields in scope - \n",
    "\n",
    "`photo_flickr_id`, `text`, `worker_arranged_photo_order` (just used to order the 5 images in memory at a given time step)\n",
    "\n",
    "_____________________________________________________________________"
   ]
  },
  {
   "cell_type": "code",
   "execution_count": 2,
   "metadata": {},
   "outputs": [],
   "source": [
    "import pandas as pd\n",
    "import json"
   ]
  },
  {
   "cell_type": "markdown",
   "metadata": {},
   "source": [
    "### Training data"
   ]
  },
  {
   "cell_type": "code",
   "execution_count": 3,
   "metadata": {},
   "outputs": [
    {
     "data": {
      "text/plain": [
       "dict_keys(['images', 'info', 'albums', 'type', 'annotations'])"
      ]
     },
     "execution_count": 3,
     "metadata": {},
     "output_type": "execute_result"
    }
   ],
   "source": [
    "with open('dataset/sis/train.story-in-sequence.json') as json_data:\n",
    "    data = json.load(json_data)\n",
    "\n",
    "data.keys()"
   ]
  },
  {
   "cell_type": "code",
   "execution_count": 4,
   "metadata": {},
   "outputs": [
    {
     "name": "stdout",
     "output_type": "stream",
     "text": [
      "167091 jpg, 341 png, 97 gif, 1 other types\n",
      " = 167530 images in total\n"
     ]
    }
   ],
   "source": [
    "actual_images = !find dataset/images/train/ -type f | sed 's/.*\\.//' | sort | uniq -c\n",
    "total_images = !find dataset/images/train/ -type f | wc -l\n",
    "print(f'{actual_images[2].strip()}, {actual_images[3].strip()}, {actual_images[1].strip()}, {actual_images[0].strip().split(\" \")[0]} other types')\n",
    "print(f' = {total_images[0]} images in total')"
   ]
  },
  {
   "cell_type": "code",
   "execution_count": 5,
   "metadata": {},
   "outputs": [],
   "source": [
    "image_jsons = data['images']\n",
    "album_jsons = data['albums']\n",
    "annotation_jsons = data['annotations']"
   ]
  },
  {
   "cell_type": "code",
   "execution_count": 6,
   "metadata": {},
   "outputs": [
    {
     "data": {
      "text/plain": [
       "{'album_id': '72157605930515606',\n",
       " 'datetaken': '2008-06-30 07:33:43',\n",
       " 'id': '2626977325',\n",
       " 'latitude': '34.414760',\n",
       " 'license': '5',\n",
       " 'longitude': '-119.692879',\n",
       " 'media': 'photo',\n",
       " 'secret': 'bec0ff3596',\n",
       " 'tags': 'santabarbara',\n",
       " 'text': '',\n",
       " 'title': 'Moreton Bay Fig 1877',\n",
       " 'url_o': 'https://farm3.staticflickr.com/2078/2626977325_2b7696990c_o.jpg'}"
      ]
     },
     "execution_count": 6,
     "metadata": {},
     "output_type": "execute_result"
    }
   ],
   "source": [
    "image_jsons[0]"
   ]
  },
  {
   "cell_type": "code",
   "execution_count": 7,
   "metadata": {},
   "outputs": [],
   "source": [
    "gif_jsons = []\n",
    "jpg_jsons = []\n",
    "png_jsons = []\n",
    "other_jsons = []\n",
    "for image_json in image_jsons:\n",
    "    if 'url_o' in image_json:\n",
    "        image_type = image_json['url_o']\n",
    "    else:\n",
    "        image_type = image_json['url_m']\n",
    "    \n",
    "    if image_type.find('.jpg') != -1:\n",
    "        jpg_jsons.append(image_json)\n",
    "    elif image_type.find('.png') != -1:\n",
    "        png_jsons.append(image_json)\n",
    "    elif image_type.find('.gif') != -1:\n",
    "        gif_jsons.append(image_json)\n",
    "    else:\n",
    "        other_jsons.append(image_json)"
   ]
  },
  {
   "cell_type": "code",
   "execution_count": 8,
   "metadata": {},
   "outputs": [
    {
     "name": "stdout",
     "output_type": "stream",
     "text": [
      "167090 jpg, 341 png, 97 gif, 0 other types\n",
      " = 167528 images in total\n",
      " = 167528 entries\n"
     ]
    }
   ],
   "source": [
    "print(f'{len(jpg_jsons)} jpg, {len(png_jsons)} png, {len(gif_jsons)} gif, {len(other_jsons)} other types')\n",
    "print(f' = {len(jpg_jsons) + len(png_jsons) + len(gif_jsons) + len(other_jsons)} images in total')\n",
    "print(f' = {len(image_jsons)} entries')"
   ]
  },
  {
   "cell_type": "code",
   "execution_count": 9,
   "metadata": {},
   "outputs": [
    {
     "data": {
      "text/plain": [
       "8031"
      ]
     },
     "execution_count": 9,
     "metadata": {},
     "output_type": "execute_result"
    }
   ],
   "source": [
    "len(album_jsons)"
   ]
  },
  {
   "cell_type": "code",
   "execution_count": 10,
   "metadata": {},
   "outputs": [
    {
     "data": {
      "text/plain": [
       "{'date_create': '1214980972',\n",
       " 'date_update': '1432330952',\n",
       " 'description': 'Believed to be the largest Moreton Bay Fig Tree in the united States',\n",
       " 'farm': '4',\n",
       " 'id': '72157605930515606',\n",
       " 'owner': '12806074@N08',\n",
       " 'photos': '13',\n",
       " 'primary': '2626985925',\n",
       " 'secret': '98149cd59b',\n",
       " 'server': '3104',\n",
       " 'title': 'Moreton Bay Fig 1877',\n",
       " 'vist_label': '4th_of_july'}"
      ]
     },
     "execution_count": 10,
     "metadata": {},
     "output_type": "execute_result"
    }
   ],
   "source": [
    "album_jsons[0]"
   ]
  },
  {
   "cell_type": "code",
   "execution_count": 11,
   "metadata": {},
   "outputs": [
    {
     "name": "stdout",
     "output_type": "stream",
     "text": [
      "images count retreived from albums = 166994\n"
     ]
    }
   ],
   "source": [
    "total_images = 0\n",
    "for album_json in album_jsons:\n",
    "    total_images += int(album_json['photos'])\n",
    "    \n",
    "print(f'images count retreived from albums = {total_images}')"
   ]
  },
  {
   "cell_type": "code",
   "execution_count": 12,
   "metadata": {},
   "outputs": [
    {
     "name": "stdout",
     "output_type": "stream",
     "text": [
      "albums count retreived from images = 8031\n"
     ]
    }
   ],
   "source": [
    "album_ids = set()\n",
    "for image_json in image_jsons:\n",
    "    album_ids.add(image_json['album_id'])\n",
    "    \n",
    "print(f'albums count retreived from images = {len(album_ids)}')"
   ]
  },
  {
   "cell_type": "code",
   "execution_count": 13,
   "metadata": {},
   "outputs": [
    {
     "name": "stdout",
     "output_type": "stream",
     "text": [
      "mapping between albums and images created\n"
     ]
    }
   ],
   "source": [
    "album_2_images = {}\n",
    "for image_json in image_jsons:\n",
    "    album_id = image_json['album_id']\n",
    "    image_id = image_json['id']\n",
    "    if album_id in album_2_images:\n",
    "        album_2_images[album_id].append(image_id)\n",
    "    else:\n",
    "        album_2_images[album_id] = list()\n",
    "        album_2_images[album_id].append(image_id)\n",
    "\n",
    "print('mapping between albums and images created')"
   ]
  },
  {
   "cell_type": "code",
   "execution_count": 14,
   "metadata": {},
   "outputs": [
    {
     "name": "stdout",
     "output_type": "stream",
     "text": [
      "8031 <class 'dict'>\n"
     ]
    }
   ],
   "source": [
    "print(len(album_2_images), type(album_2_images))"
   ]
  },
  {
   "cell_type": "code",
   "execution_count": 15,
   "metadata": {},
   "outputs": [
    {
     "name": "stdout",
     "output_type": "stream",
     "text": [
      "75\n"
     ]
    }
   ],
   "source": [
    "crappy_albums = 0\n",
    "for album_id, image_ids in album_2_images.items():\n",
    "    actual_num_image_ids = 0\n",
    "    for album_json in album_jsons:\n",
    "        if album_id == album_json['id']:\n",
    "            actual_num_image_ids = int(album_json['photos'])\n",
    "            break\n",
    "\n",
    "    if len(image_ids) != actual_num_image_ids:\n",
    "#         print(f'some issue with album id {album_id}')\n",
    "#         print(f'{actual_num_image_ids}, {len(image_ids)}')\n",
    "        crappy_albums += 1\n",
    "\n",
    "print(crappy_albums)"
   ]
  },
  {
   "cell_type": "code",
   "execution_count": 16,
   "metadata": {},
   "outputs": [
    {
     "name": "stdout",
     "output_type": "stream",
     "text": [
      "{'datetaken': '2005-07-03 20:58:52', 'license': '3', 'title': 'Twilight 4th of July', 'text': '', 'album_id': '616890', 'longitude': '0', 'url_o': 'https://farm1.staticflickr.com/21/26987844_e1184ecdcb_o.jpg', 'secret': 'e1184ecdcb', 'media': 'photo', 'latitude': '0', 'id': '26987844', 'tags': 'boats eastriver manhattan newyorkcity night ny nyc sky water'}\n",
      "{'datetaken': '2005-07-04 19:49:31', 'license': '3', 'title': 'Eastside', 'text': '', 'album_id': '616890', 'longitude': '0', 'url_o': 'https://farm1.staticflickr.com/22/27239809_0339d99fae_o.jpg', 'secret': '0339d99fae', 'media': 'photo', 'latitude': '0', 'id': '27239809', 'tags': 'skyline eastriver manhattan newyorkcity ny nyc sky architecture'}\n",
      "{'datetaken': '2005-07-04 19:49:38', 'license': '3', 'title': 'Waiting for fireworks', 'text': '', 'album_id': '616890', 'longitude': '0', 'url_o': 'https://farm1.staticflickr.com/23/26961455_3f64820d7d_o.jpg', 'secret': '3f64820d7d', 'media': 'photo', 'latitude': '0', 'id': '26961455', 'tags': 'water sky nyc ny newyorkcity manhattan buildings'}\n",
      "{'datetaken': '2005-07-04 19:50:01', 'license': '3', 'title': 'Tug and barge', 'text': '', 'album_id': '616890', 'longitude': '0', 'url_o': 'https://farm1.staticflickr.com/22/26961454_a4790bbb7a_o.jpg', 'secret': 'a4790bbb7a', 'media': 'photo', 'latitude': '0', 'id': '26961454', 'tags': 'manhattan newyorkcity sky nyc eastriver water boats'}\n",
      "{'datetaken': '2005-07-04 21:09:25', 'license': '3', 'title': \"Macy's Barge\", 'text': '', 'album_id': '616890', 'longitude': '0', 'url_o': 'https://farm1.staticflickr.com/23/26987845_57f42820d4_o.jpg', 'secret': '57f42820d4', 'media': 'photo', 'latitude': '0', 'id': '26987845', 'tags': 'skyline water sky nyc ny night newyorkcity'}\n",
      "{'datetaken': '2005-07-04 21:21:42', 'license': '3', 'title': 'Fireworks 1', 'text': '', 'album_id': '616890', 'longitude': '0', 'url_o': 'https://farm1.staticflickr.com/21/26987846_3d701e47a0_o.jpg', 'secret': '3d701e47a0', 'media': 'photo', 'latitude': '0', 'id': '26987846', 'tags': 'night newyorkcity ny nyc fireworks'}\n",
      "{'datetaken': '2005-07-04 21:21:53', 'license': '3', 'title': 'Fireworks 2', 'text': '', 'album_id': '616890', 'longitude': '0', 'url_o': 'https://farm1.staticflickr.com/23/27239806_9a99c5bcf4_o.jpg', 'secret': '9a99c5bcf4', 'media': 'photo', 'latitude': '0', 'id': '27239806', 'tags': 'eastriver nyc newyork newyorkcity sky fireworks'}\n",
      "{'datetaken': '2005-07-04 21:24:03', 'license': '3', 'title': 'Fireworks 3', 'text': '', 'album_id': '616890', 'longitude': '0', 'url_o': 'https://farm1.staticflickr.com/23/27239807_5b1e9972dc_o.jpg', 'secret': '5b1e9972dc', 'media': 'photo', 'latitude': '0', 'id': '27239807', 'tags': 'nyc newyork newyorkcity sky fireworks'}\n",
      "{'datetaken': '2005-07-04 21:29:27', 'license': '3', 'title': 'Fireworks 4', 'text': '', 'album_id': '616890', 'longitude': '0', 'url_o': 'https://farm1.staticflickr.com/23/27239808_8a6690804c_o.jpg', 'secret': '8a6690804c', 'media': 'photo', 'latitude': '0', 'id': '27239808', 'tags': 'red nyc newyork newyorkcity sky fireworks'}\n",
      "{'datetaken': '2005-07-04 21:29:56', 'license': '3', 'title': 'Fireworks 5', 'text': '', 'album_id': '616890', 'longitude': '0', 'url_o': 'https://farm1.staticflickr.com/23/28191593_1fdc019791_o.jpg', 'secret': '1fdc019791', 'media': 'photo', 'latitude': '0', 'id': '28191593', 'tags': 'night fireworks'}\n",
      "{'datetaken': '2005-07-04 21:32:16', 'license': '3', 'title': 'Fireworks 7', 'text': '', 'album_id': '616890', 'longitude': '0', 'url_o': 'https://farm1.staticflickr.com/21/28191591_f1fa807149_o.jpg', 'secret': 'f1fa807149', 'media': 'photo', 'latitude': '0', 'id': '28191591', 'tags': 'night eastriver fireworks'}\n",
      "{'datetaken': '2005-07-04 21:36:06', 'license': '3', 'title': 'Fireworks 6', 'text': '', 'album_id': '616890', 'longitude': '0', 'url_o': 'https://farm1.staticflickr.com/22/28191592_88e80efd9d_o.jpg', 'secret': '88e80efd9d', 'media': 'photo', 'latitude': '0', 'id': '28191592', 'tags': 'night eastriver fireworks'}\n"
     ]
    }
   ],
   "source": [
    "for image_json in image_jsons:\n",
    "    if image_json['album_id'] == '616890':\n",
    "        print(image_json)"
   ]
  },
  {
   "cell_type": "code",
   "execution_count": 17,
   "metadata": {},
   "outputs": [
    {
     "data": {
      "text/plain": [
       "['26987844',\n",
       " '27239809',\n",
       " '26961455',\n",
       " '26961454',\n",
       " '26987845',\n",
       " '26987846',\n",
       " '27239806',\n",
       " '27239807',\n",
       " '27239808',\n",
       " '28191593',\n",
       " '28191591',\n",
       " '28191592']"
      ]
     },
     "execution_count": 17,
     "metadata": {},
     "output_type": "execute_result"
    }
   ],
   "source": [
    "album_2_images['616890']"
   ]
  },
  {
   "cell_type": "code",
   "execution_count": 18,
   "metadata": {},
   "outputs": [
    {
     "name": "stdout",
     "output_type": "stream",
     "text": [
      "{'description': '', 'title': 'Fourth of July 2005, NYC', 'farm': '1', 'date_update': '1296925051', 'primary': '28191593', 'server': '23', 'date_create': '616890', 'photos': '3', 'secret': '1fdc019791', 'owner': '20768188@N00', 'vist_label': '4th_of_july', 'id': '616890'}\n"
     ]
    }
   ],
   "source": [
    "for album_json in album_jsons:\n",
    "    if album_json['id'] == '616890':\n",
    "        print(album_json)\n",
    "        break"
   ]
  },
  {
   "cell_type": "code",
   "execution_count": 19,
   "metadata": {},
   "outputs": [
    {
     "name": "stdout",
     "output_type": "stream",
     "text": [
      "[{'original_text': 'We could see the launching pad where the fireworks were to be shot off, we had the best viewing spot possible.', 'album_id': '616890', 'photo_flickr_id': '26961454', 'setting': 'first-2-pick-and-tell', 'worker_id': 'FZWJK4PVSM1P98G', 'story_id': '420', 'tier': 'story-in-sequence', 'worker_arranged_photo_order': 1, 'text': 'we could see the launching pad where the fireworks were to be shot off , we had the best viewing spot possible .', 'storylet_id': '2101'}]\n",
      "[{'original_text': 'It was July 4th and we were heading into the city to see fireworks.', 'album_id': '616890', 'photo_flickr_id': '26961454', 'setting': 'first-2-pick-and-tell', 'worker_id': 'WGQHJXJ41NTZIWA', 'story_id': '421', 'tier': 'story-in-sequence', 'worker_arranged_photo_order': 0, 'text': 'it was july 4th and we were heading into the city to see fireworks .', 'storylet_id': '2105'}]\n",
      "[{'original_text': 'We got our spots and watched the barges while the sun set.', 'album_id': '616890', 'photo_flickr_id': '26961454', 'setting': 'last-3-pick-old-and-tell', 'worker_id': 'WGD25EH661HW14T', 'story_id': '422', 'tier': 'story-in-sequence', 'worker_arranged_photo_order': 1, 'text': 'we got our spots and watched the barges while the sun set .', 'storylet_id': '2111'}]\n",
      "[{'original_text': 'We took some pictures of the water in the afternoon', 'album_id': '616890', 'photo_flickr_id': '26961454', 'setting': 'last-3-pick-old-and-tell', 'worker_id': '91BIFXL3TTG0RLZ', 'story_id': '423', 'tier': 'story-in-sequence', 'worker_arranged_photo_order': 1, 'text': 'we took some pictures of the water in the afternoon', 'storylet_id': '2116'}]\n",
      "[{'original_text': 'It was a lovely, yet fading day. ', 'album_id': '616890', 'photo_flickr_id': '26961454', 'setting': 'last-3-pick-old-and-tell', 'worker_id': 'S881JEGIF5EW49I', 'story_id': '424', 'tier': 'story-in-sequence', 'worker_arranged_photo_order': 0, 'text': 'it was a lovely , yet fading day .', 'storylet_id': '2120'}]\n"
     ]
    }
   ],
   "source": [
    "for annotation_json in annotation_jsons:\n",
    "    if annotation_json[0]['photo_flickr_id'] == '26961454':\n",
    "        print(annotation_json)"
   ]
  },
  {
   "cell_type": "code",
   "execution_count": 104,
   "metadata": {},
   "outputs": [
    {
     "name": "stdout",
     "output_type": "stream",
     "text": [
      "all albums have 5 stories. life is even!\n"
     ]
    }
   ],
   "source": [
    "bad_news = False\n",
    "for album_json in album_jsons:\n",
    "    album_id = album_json['id']\n",
    "    stories = set()\n",
    "    for annotation_json in annotation_jsons:\n",
    "        if annotation_json[0]['album_id'] == album_id:\n",
    "            stories.add(annotation_json[0]['story_id'])\n",
    "    \n",
    "    if len(stories) != 5:\n",
    "        print(f'album {album_id} does not have 5 stories')\n",
    "        bad_news = True\n",
    "\n",
    "if not bad_news:\n",
    "    print('all albums have 5 stories. life is even!')"
   ]
  },
  {
   "cell_type": "code",
   "execution_count": 106,
   "metadata": {},
   "outputs": [
    {
     "name": "stdout",
     "output_type": "stream",
     "text": [
      "all stories have 5 sentences. life is still even!\n"
     ]
    }
   ],
   "source": [
    "stories_2_sentences = {}\n",
    "\n",
    "for annotation_json in annotation_jsons:\n",
    "    if annotation_json[0]['story_id'] in stories_2_sentences:\n",
    "        stories_2_sentences[annotation_json[0]['story_id']] += 1\n",
    "    else:\n",
    "        stories_2_sentences[annotation_json[0]['story_id']] = 1\n",
    "        \n",
    "sent_count = set(stories_2_sentences.values())\n",
    "if len(sent_count) == 1:\n",
    "    print(f'all stories have {list(sent_count)[0]} sentences. life is still even!')\n",
    "else:\n",
    "    print('something bumpy')"
   ]
  },
  {
   "cell_type": "code",
   "execution_count": 116,
   "metadata": {},
   "outputs": [
    {
     "name": "stdout",
     "output_type": "stream",
     "text": [
      "all albums have atleast 10 images. life is still even!\n"
     ]
    }
   ],
   "source": [
    "bad_news = False\n",
    "for album_id, image_ids in album_2_images.items():\n",
    "    if len(image_ids) < 10:\n",
    "        print('something bumpy', album_id)\n",
    "        bad_news = True\n",
    "        break\n",
    "\n",
    "if not bad_news:\n",
    "    print('all albums have atleast 10 images. life is still even!')"
   ]
  },
  {
   "cell_type": "code",
   "execution_count": 42,
   "metadata": {},
   "outputs": [
    {
     "name": "stdout",
     "output_type": "stream",
     "text": [
      "life is good\n"
     ]
    }
   ],
   "source": [
    "bad_news = False\n",
    "for album_json in album_jsons:\n",
    "    _album_id = album_json['id']\n",
    "    story_2_imgs = {}\n",
    "    for annotation_json in annotation_jsons:\n",
    "        album_id = annotation_json[0]['album_id']\n",
    "        if album_id == _album_id:\n",
    "            story_id = annotation_json[0]['story_id']\n",
    "            image_id = annotation_json[0]['photo_flickr_id']\n",
    "        \n",
    "            if story_id in story_2_imgs:\n",
    "                story_2_imgs[story_id].append(image_id)\n",
    "            else:\n",
    "                story_2_imgs[story_id] = list()\n",
    "                story_2_imgs[story_id].append(image_id)\n",
    "    t = list(story_2_imgs.values())\n",
    "    s = set(frozenset(i) for i in t)\n",
    "#     print(s)\n",
    "    if len(s) != 2 and len(s) != 1:\n",
    "        print(f'there is an issue with {_album_id} album')\n",
    "        bad_news = True\n",
    "        break\n",
    "\n",
    "if not bad_news:\n",
    "    print('life is good')"
   ]
  },
  {
   "cell_type": "code",
   "execution_count": 21,
   "metadata": {},
   "outputs": [
    {
     "name": "stdout",
     "output_type": "stream",
     "text": [
      "        420       421       422       423       424\n",
      "0  27239809  26961454  27239809  27239809  26961454\n",
      "1  26961454  26961455  26961454  26961454  26961455\n",
      "2  26987845  27239809  26987845  26987845  27239809\n",
      "3  27239808  26987845  27239808  27239808  26987845\n",
      "4  28191592  27239806  28191592  28191592  27239806\n"
     ]
    }
   ],
   "source": [
    "print(pd.DataFrame.from_dict(story_2_imgs))"
   ]
  },
  {
   "cell_type": "code",
   "execution_count": 39,
   "metadata": {},
   "outputs": [
    {
     "name": "stdout",
     "output_type": "stream",
     "text": [
      "       30365      30366      30367      30368      30369\n",
      "0  182023789  182023793  182023789  182023789  182023789\n",
      "1  182023792  182023789  182023792  182023792  182023792\n",
      "2  182023793  182030838  182023793  182023793  182023793\n",
      "3  182030838  182023792  182030838  182030838  182030838\n",
      "4  182023794  182023794  182023794  182023794  182023794\n"
     ]
    }
   ],
   "source": [
    "story_2_imgs = {}\n",
    "for annotation_json in annotation_jsons:\n",
    "        album_id = annotation_json[0]['album_id']\n",
    "        if album_id == '72157594190376306':\n",
    "            story_id = annotation_json[0]['story_id']\n",
    "            image_id = annotation_json[0]['photo_flickr_id']\n",
    "        \n",
    "            if story_id in story_2_imgs:\n",
    "                story_2_imgs[story_id].append(image_id)\n",
    "            else:\n",
    "                story_2_imgs[story_id] = list()\n",
    "                story_2_imgs[story_id].append(image_id)\n",
    "                \n",
    "print(pd.DataFrame.from_dict(story_2_imgs))"
   ]
  },
  {
   "cell_type": "code",
   "execution_count": 41,
   "metadata": {},
   "outputs": [
    {
     "name": "stdout",
     "output_type": "stream",
     "text": [
      "there is an issue with 72157624875976415 album\n"
     ]
    },
    {
     "data": {
      "text/plain": [
       "1"
      ]
     },
     "execution_count": 41,
     "metadata": {},
     "output_type": "execute_result"
    }
   ],
   "source": [
    "t = list(story_2_imgs.values())\n",
    "s = set(frozenset(i) for i in t)\n",
    "if len(set(frozenset(i) for i in t)) != 2:\n",
    "    print(f'there is an issue with {album_id} album')\n",
    "len(s)"
   ]
  },
  {
   "cell_type": "markdown",
   "metadata": {},
   "source": [
    "### Validation data"
   ]
  },
  {
   "cell_type": "code",
   "execution_count": 20,
   "metadata": {},
   "outputs": [
    {
     "name": "stdout",
     "output_type": "stream",
     "text": [
      "21023 jpg, 24 png, 1 other types\n",
      " = 21048 images in total\n"
     ]
    }
   ],
   "source": [
    "actual_images = !find dataset/images/validate/ -type f | sed 's/.*\\.//' | sort | uniq -c\n",
    "total_images = !find dataset/images/validate/ -type f | wc -l\n",
    "print(f'{actual_images[1].strip()}, {actual_images[2].strip()}, {actual_images[0].strip().split(\" \")[0]} other types')\n",
    "print(f' = {total_images[0]} images in total')"
   ]
  },
  {
   "cell_type": "code",
   "execution_count": 21,
   "metadata": {},
   "outputs": [
    {
     "data": {
      "text/plain": [
       "dict_keys(['images', 'info', 'albums', 'type', 'annotations'])"
      ]
     },
     "execution_count": 21,
     "metadata": {},
     "output_type": "execute_result"
    }
   ],
   "source": [
    "with open('dataset/sis/val.story-in-sequence.json') as json_data:\n",
    "    data = json.load(json_data)\n",
    "\n",
    "data.keys()"
   ]
  },
  {
   "cell_type": "code",
   "execution_count": 22,
   "metadata": {},
   "outputs": [],
   "source": [
    "image_jsons = data['images']\n",
    "album_jsons = data['albums']\n",
    "annotation_jsons = data['annotations']"
   ]
  },
  {
   "cell_type": "code",
   "execution_count": 23,
   "metadata": {},
   "outputs": [],
   "source": [
    "gif_jsons = []\n",
    "jpg_jsons = []\n",
    "png_jsons = []\n",
    "other_jsons = []\n",
    "for image_json in image_jsons:\n",
    "    if 'url_o' in image_json:\n",
    "        image_type = image_json['url_o']\n",
    "    else:\n",
    "        image_type = image_json['url_m']\n",
    "    \n",
    "    if image_type.find('.jpg') != -1:\n",
    "        jpg_jsons.append(image_json)\n",
    "    elif image_type.find('.png') != -1:\n",
    "        png_jsons.append(image_json)\n",
    "    elif image_type.find('.gif') != -1:\n",
    "        gif_jsons.append(image_json)\n",
    "    else:\n",
    "        other_jsons.append(image_json)"
   ]
  },
  {
   "cell_type": "code",
   "execution_count": 24,
   "metadata": {},
   "outputs": [
    {
     "name": "stdout",
     "output_type": "stream",
     "text": [
      "21023 jpg, 24 png, 1 gif, 0 other types\n",
      " = 21048 images in total\n",
      " = 21048 entries\n"
     ]
    }
   ],
   "source": [
    "print(f'{len(jpg_jsons)} jpg, {len(png_jsons)} png, {len(gif_jsons)} gif, {len(other_jsons)} other types')\n",
    "print(f' = {len(jpg_jsons) + len(png_jsons) + len(gif_jsons) + len(other_jsons)} images in total')\n",
    "print(f' = {len(image_jsons)} entries')"
   ]
  },
  {
   "cell_type": "code",
   "execution_count": 25,
   "metadata": {},
   "outputs": [
    {
     "data": {
      "text/plain": [
       "998"
      ]
     },
     "execution_count": 25,
     "metadata": {},
     "output_type": "execute_result"
    }
   ],
   "source": [
    "len(album_jsons)"
   ]
  },
  {
   "cell_type": "code",
   "execution_count": 26,
   "metadata": {},
   "outputs": [
    {
     "name": "stdout",
     "output_type": "stream",
     "text": [
      "mapping between albums and images created\n"
     ]
    }
   ],
   "source": [
    "album_2_images = {}\n",
    "for image_json in image_jsons:\n",
    "    album_id = image_json['album_id']\n",
    "    image_id = image_json['id']\n",
    "    if album_id in album_2_images:\n",
    "        album_2_images[album_id].append(image_id)\n",
    "    else:\n",
    "        album_2_images[album_id] = list()\n",
    "        album_2_images[album_id].append(image_id)\n",
    "\n",
    "print('mapping between albums and images created')"
   ]
  },
  {
   "cell_type": "code",
   "execution_count": 27,
   "metadata": {},
   "outputs": [
    {
     "name": "stdout",
     "output_type": "stream",
     "text": [
      "80\n"
     ]
    }
   ],
   "source": [
    "for album_id, image_ids in album_2_images.items():\n",
    "    actual_num_image_ids = 0\n",
    "    for album_json in album_jsons:\n",
    "        if album_id == album_json['id']:\n",
    "            actual_num_image_ids = int(album_json['photos'])\n",
    "            break\n",
    "\n",
    "    if len(image_ids) != actual_num_image_ids:\n",
    "#         print(f'some issue with album id {album_id}')\n",
    "#         print(f'{actual_num_image_ids}, {len(image_ids)}')\n",
    "        crappy_albums += 1\n",
    "\n",
    "print(crappy_albums)"
   ]
  },
  {
   "cell_type": "code",
   "execution_count": 128,
   "metadata": {},
   "outputs": [
    {
     "name": "stdout",
     "output_type": "stream",
     "text": [
      "all albums have 5 stories. life is even!\n"
     ]
    }
   ],
   "source": [
    "bad_news = False\n",
    "for album_json in album_jsons:\n",
    "    album_id = album_json['id']\n",
    "    stories = set()\n",
    "    for annotation_json in annotation_jsons:\n",
    "        if annotation_json[0]['album_id'] == album_id:\n",
    "            stories.add(annotation_json[0]['story_id'])\n",
    "    \n",
    "    if len(stories) != 5:\n",
    "        print(f'album {album_id} does not have 5 stories')\n",
    "        bad_news = True\n",
    "\n",
    "if not bad_news:\n",
    "    print('all albums have 5 stories. life is even!')"
   ]
  },
  {
   "cell_type": "code",
   "execution_count": 129,
   "metadata": {},
   "outputs": [
    {
     "name": "stdout",
     "output_type": "stream",
     "text": [
      "all stories have 5 sentences. life is still even!\n"
     ]
    }
   ],
   "source": [
    "stories_2_sentences = {}\n",
    "\n",
    "for annotation_json in annotation_jsons:\n",
    "    if annotation_json[0]['story_id'] in stories_2_sentences:\n",
    "        stories_2_sentences[annotation_json[0]['story_id']] += 1\n",
    "    else:\n",
    "        stories_2_sentences[annotation_json[0]['story_id']] = 1\n",
    "        \n",
    "sent_count = set(stories_2_sentences.values())\n",
    "if len(sent_count) == 1:\n",
    "    print(f'all stories have {list(sent_count)[0]} sentences. life is still even!')\n",
    "else:\n",
    "    print('something bumpy')"
   ]
  },
  {
   "cell_type": "code",
   "execution_count": 130,
   "metadata": {},
   "outputs": [
    {
     "name": "stdout",
     "output_type": "stream",
     "text": [
      "all albums have atleast 10 images. life is still even!\n"
     ]
    }
   ],
   "source": [
    "bad_news = False\n",
    "for album_id, image_ids in album_2_images.items():\n",
    "    if len(image_ids) < 10:\n",
    "        print('something bumpy', album_id)\n",
    "        bad_news = True\n",
    "        break\n",
    "\n",
    "if not bad_news:\n",
    "    print('all albums have atleast 10 images. life is still even!')"
   ]
  },
  {
   "cell_type": "markdown",
   "metadata": {},
   "source": [
    "### Test data"
   ]
  },
  {
   "cell_type": "code",
   "execution_count": 28,
   "metadata": {},
   "outputs": [
    {
     "name": "stdout",
     "output_type": "stream",
     "text": [
      "20991 jpg, 84 png\n",
      " = 21075 images in total\n"
     ]
    }
   ],
   "source": [
    "actual_images = !find dataset/images/test/ -type f | sed 's/.*\\.//' | sort | uniq -c\n",
    "total_images = !find dataset/images/test/ -type f | wc -l\n",
    "print(f'{actual_images[0].strip()}, {actual_images[1].strip()}')\n",
    "print(f' = {total_images[0]} images in total')"
   ]
  },
  {
   "cell_type": "code",
   "execution_count": 29,
   "metadata": {},
   "outputs": [
    {
     "data": {
      "text/plain": [
       "dict_keys(['images', 'info', 'albums', 'type', 'annotations'])"
      ]
     },
     "execution_count": 29,
     "metadata": {},
     "output_type": "execute_result"
    }
   ],
   "source": [
    "with open('dataset/sis/test.story-in-sequence.json') as json_data:\n",
    "    data = json.load(json_data)\n",
    "\n",
    "data.keys()"
   ]
  },
  {
   "cell_type": "code",
   "execution_count": 30,
   "metadata": {},
   "outputs": [],
   "source": [
    "image_jsons = data['images']\n",
    "album_jsons = data['albums']\n",
    "annotation_jsons = data['annotations']"
   ]
  },
  {
   "cell_type": "code",
   "execution_count": 31,
   "metadata": {},
   "outputs": [],
   "source": [
    "gif_jsons = []\n",
    "jpg_jsons = []\n",
    "png_jsons = []\n",
    "other_jsons = []\n",
    "for image_json in image_jsons:\n",
    "    if 'url_o' in image_json:\n",
    "        image_type = image_json['url_o']\n",
    "    else:\n",
    "        image_type = image_json['url_m']\n",
    "    \n",
    "    if image_type.find('.jpg') != -1:\n",
    "        jpg_jsons.append(image_json)\n",
    "    elif image_type.find('.png') != -1:\n",
    "        png_jsons.append(image_json)\n",
    "    elif image_type.find('.gif') != -1:\n",
    "        gif_jsons.append(image_json)\n",
    "    else:\n",
    "        other_jsons.append(image_json)"
   ]
  },
  {
   "cell_type": "code",
   "execution_count": 32,
   "metadata": {},
   "outputs": [
    {
     "name": "stdout",
     "output_type": "stream",
     "text": [
      "20991 jpg, 84 png, 0 gif, 0 other types\n",
      " = 21075 images in total\n",
      " = 21075 entries\n"
     ]
    }
   ],
   "source": [
    "print(f'{len(jpg_jsons)} jpg, {len(png_jsons)} png, {len(gif_jsons)} gif, {len(other_jsons)} other types')\n",
    "print(f' = {len(jpg_jsons) + len(png_jsons) + len(gif_jsons) + len(other_jsons)} images in total')\n",
    "print(f' = {len(image_jsons)} entries')"
   ]
  },
  {
   "cell_type": "code",
   "execution_count": 33,
   "metadata": {},
   "outputs": [
    {
     "data": {
      "text/plain": [
       "1011"
      ]
     },
     "execution_count": 33,
     "metadata": {},
     "output_type": "execute_result"
    }
   ],
   "source": [
    "len(album_jsons)"
   ]
  },
  {
   "cell_type": "code",
   "execution_count": 34,
   "metadata": {},
   "outputs": [
    {
     "name": "stdout",
     "output_type": "stream",
     "text": [
      "mapping between albums and images created\n"
     ]
    }
   ],
   "source": [
    "album_2_images = {}\n",
    "for image_json in image_jsons:\n",
    "    album_id = image_json['album_id']\n",
    "    image_id = image_json['id']\n",
    "    if album_id in album_2_images:\n",
    "        album_2_images[album_id].append(image_id)\n",
    "    else:\n",
    "        album_2_images[album_id] = list()\n",
    "        album_2_images[album_id].append(image_id)\n",
    "\n",
    "print('mapping between albums and images created')"
   ]
  },
  {
   "cell_type": "code",
   "execution_count": 35,
   "metadata": {},
   "outputs": [
    {
     "name": "stdout",
     "output_type": "stream",
     "text": [
      "87\n"
     ]
    }
   ],
   "source": [
    "for album_id, image_ids in album_2_images.items():\n",
    "    actual_num_image_ids = 0\n",
    "    for album_json in album_jsons:\n",
    "        if album_id == album_json['id']:\n",
    "            actual_num_image_ids = int(album_json['photos'])\n",
    "            break\n",
    "\n",
    "    if len(image_ids) != actual_num_image_ids:\n",
    "#         print(f'some issue with album id {album_id}')\n",
    "#         print(f'{actual_num_image_ids}, {len(image_ids)}')\n",
    "        crappy_albums += 1\n",
    "\n",
    "print(crappy_albums)"
   ]
  },
  {
   "cell_type": "code",
   "execution_count": 141,
   "metadata": {},
   "outputs": [
    {
     "name": "stdout",
     "output_type": "stream",
     "text": [
      "all albums have 5 stories. life is even!\n"
     ]
    }
   ],
   "source": [
    "bad_news = False\n",
    "for album_json in album_jsons:\n",
    "    album_id = album_json['id']\n",
    "    stories = set()\n",
    "    for annotation_json in annotation_jsons:\n",
    "        if annotation_json[0]['album_id'] == album_id:\n",
    "            stories.add(annotation_json[0]['story_id'])\n",
    "    \n",
    "    if len(stories) != 5:\n",
    "        print(f'album {album_id} does not have 5 stories')\n",
    "        bad_news = True\n",
    "\n",
    "if not bad_news:\n",
    "    print('all albums have 5 stories. life is even!')"
   ]
  },
  {
   "cell_type": "code",
   "execution_count": 142,
   "metadata": {},
   "outputs": [
    {
     "name": "stdout",
     "output_type": "stream",
     "text": [
      "all stories have 5 sentences. life is still even!\n"
     ]
    }
   ],
   "source": [
    "stories_2_sentences = {}\n",
    "\n",
    "for annotation_json in annotation_jsons:\n",
    "    if annotation_json[0]['story_id'] in stories_2_sentences:\n",
    "        stories_2_sentences[annotation_json[0]['story_id']] += 1\n",
    "    else:\n",
    "        stories_2_sentences[annotation_json[0]['story_id']] = 1\n",
    "        \n",
    "sent_count = set(stories_2_sentences.values())\n",
    "if len(sent_count) == 1:\n",
    "    print(f'all stories have {list(sent_count)[0]} sentences. life is still even!')\n",
    "else:\n",
    "    print('something bumpy')"
   ]
  },
  {
   "cell_type": "code",
   "execution_count": 143,
   "metadata": {},
   "outputs": [
    {
     "name": "stdout",
     "output_type": "stream",
     "text": [
      "all albums have atleast 10 images. life is still even!\n"
     ]
    }
   ],
   "source": [
    "bad_news = False\n",
    "for album_id, image_ids in album_2_images.items():\n",
    "    if len(image_ids) < 10:\n",
    "        print('something bumpy', album_id)\n",
    "        bad_news = True\n",
    "        break\n",
    "\n",
    "if not bad_news:\n",
    "    print('all albums have atleast 10 images. life is still even!')"
   ]
  },
  {
   "cell_type": "code",
   "execution_count": 16,
   "metadata": {},
   "outputs": [
    {
     "name": "stdout",
     "output_type": "stream",
     "text": [
      "4990.0 <class 'list'>\n"
     ]
    },
    {
     "data": {
      "text/plain": [
       "100"
      ]
     },
     "execution_count": 16,
     "metadata": {},
     "output_type": "execute_result"
    }
   ],
   "source": [
    "import json\n",
    "import os\n",
    "import shutil\n",
    "\n",
    "with open('dataset/sis/val.story-in-sequence.json') as json_data:\n",
    "    data = json.load(json_data)\n",
    "data.keys()\n",
    "\n",
    "annotation_jsons = data['annotations']\n",
    "\n",
    "print(len(annotation_jsons) / 5, type(annotation_jsons))\n",
    "\n",
    "train_annotations = annotation_jsons[0:100]\n",
    "len(train_annotations)\n",
    "\n",
    "train_img_paths = ['/scratch/cs/imagedb/picsom/databases/vist/download/vist-baseline/dataset/images/validate/' + annotation_json[0]['photo_flickr_id'] for annotation_json in train_annotations]\n",
    "len(train_img_paths)"
   ]
  },
  {
   "cell_type": "code",
   "execution_count": 17,
   "metadata": {},
   "outputs": [
    {
     "name": "stdout",
     "output_type": "stream",
     "text": [
      "/scratch/cs/imagedb/picsom/databases/vist/download/vist-baseline/dataset/images/validate/693397887.jpg\n",
      "/scratch/cs/imagedb/picsom/databases/vist/download/vist-baseline/dataset/images/validate/695160730.jpg\n",
      "/scratch/cs/imagedb/picsom/databases/vist/download/vist-baseline/dataset/images/validate/694227508.jpg\n",
      "/scratch/cs/imagedb/picsom/databases/vist/download/vist-baseline/dataset/images/validate/693397865.jpg\n",
      "/scratch/cs/imagedb/picsom/databases/vist/download/vist-baseline/dataset/images/validate/694227468.jpg\n",
      "/scratch/cs/imagedb/picsom/databases/vist/download/vist-baseline/dataset/images/validate/694227468.jpg\n",
      "/scratch/cs/imagedb/picsom/databases/vist/download/vist-baseline/dataset/images/validate/694227412.jpg\n",
      "/scratch/cs/imagedb/picsom/databases/vist/download/vist-baseline/dataset/images/validate/694227488.jpg\n",
      "/scratch/cs/imagedb/picsom/databases/vist/download/vist-baseline/dataset/images/validate/694227508.jpg\n",
      "/scratch/cs/imagedb/picsom/databases/vist/download/vist-baseline/dataset/images/validate/693413687.jpg\n",
      "/scratch/cs/imagedb/picsom/databases/vist/download/vist-baseline/dataset/images/validate/694227468.jpg\n",
      "/scratch/cs/imagedb/picsom/databases/vist/download/vist-baseline/dataset/images/validate/694227412.jpg\n",
      "/scratch/cs/imagedb/picsom/databases/vist/download/vist-baseline/dataset/images/validate/694227488.jpg\n",
      "/scratch/cs/imagedb/picsom/databases/vist/download/vist-baseline/dataset/images/validate/694227508.jpg\n",
      "/scratch/cs/imagedb/picsom/databases/vist/download/vist-baseline/dataset/images/validate/693413687.jpg\n",
      "/scratch/cs/imagedb/picsom/databases/vist/download/vist-baseline/dataset/images/validate/693397887.jpg\n",
      "/scratch/cs/imagedb/picsom/databases/vist/download/vist-baseline/dataset/images/validate/695160730.jpg\n",
      "/scratch/cs/imagedb/picsom/databases/vist/download/vist-baseline/dataset/images/validate/694227508.jpg\n",
      "/scratch/cs/imagedb/picsom/databases/vist/download/vist-baseline/dataset/images/validate/693397865.jpg\n",
      "/scratch/cs/imagedb/picsom/databases/vist/download/vist-baseline/dataset/images/validate/694227468.jpg\n",
      "/scratch/cs/imagedb/picsom/databases/vist/download/vist-baseline/dataset/images/validate/694227468.jpg\n",
      "/scratch/cs/imagedb/picsom/databases/vist/download/vist-baseline/dataset/images/validate/694227412.jpg\n",
      "/scratch/cs/imagedb/picsom/databases/vist/download/vist-baseline/dataset/images/validate/694227488.jpg\n",
      "/scratch/cs/imagedb/picsom/databases/vist/download/vist-baseline/dataset/images/validate/694227508.jpg\n",
      "/scratch/cs/imagedb/picsom/databases/vist/download/vist-baseline/dataset/images/validate/693413687.jpg\n",
      "/scratch/cs/imagedb/picsom/databases/vist/download/vist-baseline/dataset/images/validate/727540815.jpg\n",
      "/scratch/cs/imagedb/picsom/databases/vist/download/vist-baseline/dataset/images/validate/727540891.jpg\n",
      "/scratch/cs/imagedb/picsom/databases/vist/download/vist-baseline/dataset/images/validate/727541051.jpg\n",
      "/scratch/cs/imagedb/picsom/databases/vist/download/vist-baseline/dataset/images/validate/727541139.jpg\n",
      "/scratch/cs/imagedb/picsom/databases/vist/download/vist-baseline/dataset/images/validate/1003969962.jpg\n",
      "/scratch/cs/imagedb/picsom/databases/vist/download/vist-baseline/dataset/images/validate/1001024065.jpg\n",
      "/scratch/cs/imagedb/picsom/databases/vist/download/vist-baseline/dataset/images/validate/727540815.jpg\n",
      "/scratch/cs/imagedb/picsom/databases/vist/download/vist-baseline/dataset/images/validate/1003892224.jpg\n",
      "/scratch/cs/imagedb/picsom/databases/vist/download/vist-baseline/dataset/images/validate/1003969962.jpg\n",
      "/scratch/cs/imagedb/picsom/databases/vist/download/vist-baseline/dataset/images/validate/727541139.jpg\n",
      "/scratch/cs/imagedb/picsom/databases/vist/download/vist-baseline/dataset/images/validate/1001024065.jpg\n",
      "/scratch/cs/imagedb/picsom/databases/vist/download/vist-baseline/dataset/images/validate/727540815.jpg\n",
      "/scratch/cs/imagedb/picsom/databases/vist/download/vist-baseline/dataset/images/validate/1003892224.jpg\n",
      "/scratch/cs/imagedb/picsom/databases/vist/download/vist-baseline/dataset/images/validate/1003969962.jpg\n",
      "/scratch/cs/imagedb/picsom/databases/vist/download/vist-baseline/dataset/images/validate/727541139.jpg\n",
      "/scratch/cs/imagedb/picsom/databases/vist/download/vist-baseline/dataset/images/validate/727540815.jpg\n",
      "/scratch/cs/imagedb/picsom/databases/vist/download/vist-baseline/dataset/images/validate/727540891.jpg\n",
      "/scratch/cs/imagedb/picsom/databases/vist/download/vist-baseline/dataset/images/validate/727541051.jpg\n",
      "/scratch/cs/imagedb/picsom/databases/vist/download/vist-baseline/dataset/images/validate/727541139.jpg\n",
      "/scratch/cs/imagedb/picsom/databases/vist/download/vist-baseline/dataset/images/validate/1003969962.jpg\n",
      "/scratch/cs/imagedb/picsom/databases/vist/download/vist-baseline/dataset/images/validate/1001024065.jpg\n",
      "/scratch/cs/imagedb/picsom/databases/vist/download/vist-baseline/dataset/images/validate/727540815.jpg\n",
      "/scratch/cs/imagedb/picsom/databases/vist/download/vist-baseline/dataset/images/validate/1003892224.jpg\n",
      "/scratch/cs/imagedb/picsom/databases/vist/download/vist-baseline/dataset/images/validate/1003969962.jpg\n",
      "/scratch/cs/imagedb/picsom/databases/vist/download/vist-baseline/dataset/images/validate/727541139.jpg\n",
      "/scratch/cs/imagedb/picsom/databases/vist/download/vist-baseline/dataset/images/validate/181866901.jpg\n",
      "/scratch/cs/imagedb/picsom/databases/vist/download/vist-baseline/dataset/images/validate/181866941.jpg\n",
      "/scratch/cs/imagedb/picsom/databases/vist/download/vist-baseline/dataset/images/validate/181867013.jpg\n",
      "/scratch/cs/imagedb/picsom/databases/vist/download/vist-baseline/dataset/images/validate/181867104.jpg\n",
      "/scratch/cs/imagedb/picsom/databases/vist/download/vist-baseline/dataset/images/validate/181867214.jpg\n",
      "/scratch/cs/imagedb/picsom/databases/vist/download/vist-baseline/dataset/images/validate/181866882.jpg\n",
      "/scratch/cs/imagedb/picsom/databases/vist/download/vist-baseline/dataset/images/validate/181866901.jpg\n",
      "/scratch/cs/imagedb/picsom/databases/vist/download/vist-baseline/dataset/images/validate/181866941.jpg\n",
      "/scratch/cs/imagedb/picsom/databases/vist/download/vist-baseline/dataset/images/validate/181866969.jpg\n",
      "/scratch/cs/imagedb/picsom/databases/vist/download/vist-baseline/dataset/images/validate/181867131.jpg\n",
      "/scratch/cs/imagedb/picsom/databases/vist/download/vist-baseline/dataset/images/validate/181866882.jpg\n",
      "/scratch/cs/imagedb/picsom/databases/vist/download/vist-baseline/dataset/images/validate/181866901.jpg\n",
      "/scratch/cs/imagedb/picsom/databases/vist/download/vist-baseline/dataset/images/validate/181866941.jpg\n",
      "/scratch/cs/imagedb/picsom/databases/vist/download/vist-baseline/dataset/images/validate/181866969.jpg\n",
      "/scratch/cs/imagedb/picsom/databases/vist/download/vist-baseline/dataset/images/validate/181867131.jpg\n",
      "/scratch/cs/imagedb/picsom/databases/vist/download/vist-baseline/dataset/images/validate/181866901.jpg\n",
      "/scratch/cs/imagedb/picsom/databases/vist/download/vist-baseline/dataset/images/validate/181866941.jpg\n",
      "/scratch/cs/imagedb/picsom/databases/vist/download/vist-baseline/dataset/images/validate/181867013.jpg\n",
      "/scratch/cs/imagedb/picsom/databases/vist/download/vist-baseline/dataset/images/validate/181867104.jpg\n",
      "/scratch/cs/imagedb/picsom/databases/vist/download/vist-baseline/dataset/images/validate/181867214.jpg\n",
      "/scratch/cs/imagedb/picsom/databases/vist/download/vist-baseline/dataset/images/validate/181866901.jpg\n",
      "/scratch/cs/imagedb/picsom/databases/vist/download/vist-baseline/dataset/images/validate/181866941.jpg\n",
      "/scratch/cs/imagedb/picsom/databases/vist/download/vist-baseline/dataset/images/validate/181867013.jpg\n",
      "/scratch/cs/imagedb/picsom/databases/vist/download/vist-baseline/dataset/images/validate/181867104.jpg\n",
      "/scratch/cs/imagedb/picsom/databases/vist/download/vist-baseline/dataset/images/validate/181867214.jpg\n",
      "/scratch/cs/imagedb/picsom/databases/vist/download/vist-baseline/dataset/images/validate/213243079.jpg\n",
      "/scratch/cs/imagedb/picsom/databases/vist/download/vist-baseline/dataset/images/validate/213243117.jpg\n",
      "/scratch/cs/imagedb/picsom/databases/vist/download/vist-baseline/dataset/images/validate/213243141.jpg\n",
      "/scratch/cs/imagedb/picsom/databases/vist/download/vist-baseline/dataset/images/validate/213243282.jpg\n",
      "/scratch/cs/imagedb/picsom/databases/vist/download/vist-baseline/dataset/images/validate/213243295.jpg\n",
      "/scratch/cs/imagedb/picsom/databases/vist/download/vist-baseline/dataset/images/validate/213243079.jpg\n",
      "/scratch/cs/imagedb/picsom/databases/vist/download/vist-baseline/dataset/images/validate/213243240.jpg\n",
      "/scratch/cs/imagedb/picsom/databases/vist/download/vist-baseline/dataset/images/validate/213243314.jpg\n",
      "/scratch/cs/imagedb/picsom/databases/vist/download/vist-baseline/dataset/images/validate/182048582.jpg\n",
      "/scratch/cs/imagedb/picsom/databases/vist/download/vist-baseline/dataset/images/validate/182101957.jpg\n",
      "/scratch/cs/imagedb/picsom/databases/vist/download/vist-baseline/dataset/images/validate/213243079.jpg\n",
      "/scratch/cs/imagedb/picsom/databases/vist/download/vist-baseline/dataset/images/validate/213243117.jpg\n",
      "/scratch/cs/imagedb/picsom/databases/vist/download/vist-baseline/dataset/images/validate/213243141.jpg\n",
      "/scratch/cs/imagedb/picsom/databases/vist/download/vist-baseline/dataset/images/validate/213243282.jpg\n",
      "/scratch/cs/imagedb/picsom/databases/vist/download/vist-baseline/dataset/images/validate/213243295.jpg\n",
      "/scratch/cs/imagedb/picsom/databases/vist/download/vist-baseline/dataset/images/validate/213243079.jpg\n",
      "/scratch/cs/imagedb/picsom/databases/vist/download/vist-baseline/dataset/images/validate/213243240.jpg\n",
      "/scratch/cs/imagedb/picsom/databases/vist/download/vist-baseline/dataset/images/validate/213243314.jpg\n",
      "/scratch/cs/imagedb/picsom/databases/vist/download/vist-baseline/dataset/images/validate/182048582.jpg\n",
      "/scratch/cs/imagedb/picsom/databases/vist/download/vist-baseline/dataset/images/validate/182101957.jpg\n",
      "/scratch/cs/imagedb/picsom/databases/vist/download/vist-baseline/dataset/images/validate/213243079.jpg\n",
      "/scratch/cs/imagedb/picsom/databases/vist/download/vist-baseline/dataset/images/validate/213243240.jpg\n",
      "/scratch/cs/imagedb/picsom/databases/vist/download/vist-baseline/dataset/images/validate/213243314.jpg\n",
      "/scratch/cs/imagedb/picsom/databases/vist/download/vist-baseline/dataset/images/validate/182048582.jpg\n",
      "/scratch/cs/imagedb/picsom/databases/vist/download/vist-baseline/dataset/images/validate/182101957.jpg\n",
      "0\n"
     ]
    }
   ],
   "source": [
    "destination = '/scratch/cs/imagedb/picsom/databases/vist/download/vist-baseline/dataset/images/val_sample/'\n",
    "bad = 0\n",
    "for file_name in train_img_paths:\n",
    "    if os.path.isfile(file_name + '.jpg'):\n",
    "        print(file_name + '.jpg')\n",
    "        shutil.copy(file_name + '.jpg', destination)\n",
    "    elif os.path.isfile(file_name + '.png'):\n",
    "        print(file_name + '.png')\n",
    "        shutil.copy(file_name + '.png', destination)\n",
    "    else:\n",
    "        bad += 1\n",
    "\n",
    "print(bad)"
   ]
  },
  {
   "cell_type": "code",
   "execution_count": null,
   "metadata": {},
   "outputs": [],
   "source": []
  }
 ],
 "metadata": {
  "kernelspec": {
   "display_name": "Python 3",
   "language": "python",
   "name": "python3"
  },
  "language_info": {
   "codemirror_mode": {
    "name": "ipython",
    "version": 3
   },
   "file_extension": ".py",
   "mimetype": "text/x-python",
   "name": "python",
   "nbconvert_exporter": "python",
   "pygments_lexer": "ipython3",
   "version": "3.6.4"
  }
 },
 "nbformat": 4,
 "nbformat_minor": 2
}
